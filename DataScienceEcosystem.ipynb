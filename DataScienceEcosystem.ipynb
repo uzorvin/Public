{
 "cells": [
  {
   "cell_type": "code",
   "execution_count": null,
   "id": "b262b39b-7bc3-4ae2-9369-0bd04935516c",
   "metadata": {},
   "outputs": [],
   "source": []
  },
  {
   "cell_type": "markdown",
   "id": "f888f515-aecd-4f4f-8eb7-558ea1857238",
   "metadata": {},
   "source": []
  },
  {
   "cell_type": "markdown",
   "id": "8e6634a1-6866-4e0b-be39-09ca2aaca958",
   "metadata": {},
   "source": [
    "# H1: Data Science tools and Ecosystem"
   ]
  },
  {
   "cell_type": "markdown",
   "id": "304215de-d256-451e-a843-79ef5c728c09",
   "metadata": {},
   "source": [
    "In this Notebook, Data Science Tools and Ecostsem are summarised"
   ]
  },
  {
   "cell_type": "markdown",
   "id": "c25e995e-4698-4396-aea0-f81c9342ec7a",
   "metadata": {},
   "source": [
    "# Some of the popular languages that Data Scientists use are:\n",
    "1. SQl\n",
    "2. Python\n",
    "3. R\n"
   ]
  },
  {
   "cell_type": "markdown",
   "id": "01a4910c-0e02-4f4f-b370-b35c1897f283",
   "metadata": {},
   "source": [
    "# Some of the commonly used libraies by Data Scientists are:\n",
    "1. Jupyter\n",
    "2. Public libraries\n",
    "3. Git libararies"
   ]
  },
  {
   "cell_type": "markdown",
   "id": "76b361b1-8fec-4187-89c6-9455ccc8f7ef",
   "metadata": {},
   "source": [
    "|Data Sciene Tools|\n",
    "-------------------\n",
    "| R-Studio |\n",
    "| Jupiterlab |\n",
    "| Watson studio |\n",
    "| Visual basic |"
   ]
  },
  {
   "cell_type": "code",
   "execution_count": 2,
   "id": "2b9e1a9e-1c8b-4d09-a1ac-3719f50fb63e",
   "metadata": {},
   "outputs": [],
   "source": [
    "# H3: Below are examples of evaluating arithmetic expressions in Python"
   ]
  },
  {
   "cell_type": "code",
   "execution_count": 3,
   "id": "c9efe818-6a5f-4658-8496-da40085170a2",
   "metadata": {},
   "outputs": [
    {
     "data": {
      "text/plain": [
       "17"
      ]
     },
     "execution_count": 3,
     "metadata": {},
     "output_type": "execute_result"
    }
   ],
   "source": [
    "(3*4)+5"
   ]
  },
  {
   "cell_type": "code",
   "execution_count": 5,
   "id": "2382e5fd-37c3-49bb-9550-26168f4ae83d",
   "metadata": {},
   "outputs": [],
   "source": [
    "# This will convert 200 minutes to hours by dividing by 60"
   ]
  },
  {
   "cell_type": "code",
   "execution_count": 7,
   "id": "d019e2cc-cc94-4c34-b0f1-f0674ccc2070",
   "metadata": {},
   "outputs": [
    {
     "data": {
      "text/plain": [
       "3.3333333333333335"
      ]
     },
     "execution_count": 7,
     "metadata": {},
     "output_type": "execute_result"
    }
   ],
   "source": [
    "200/60"
   ]
  },
  {
   "cell_type": "markdown",
   "id": "f827e473-86f9-4da8-95bc-4560124b47cb",
   "metadata": {},
   "source": [
    "# * Objectives"
   ]
  },
  {
   "cell_type": "markdown",
   "id": "7d62419d-4f56-4034-8994-4c6c2761ba62",
   "metadata": {},
   "source": [
    "- Using mardowns\n",
    "- Using capitalisations in markdowns\n",
    "- Creating mardown lists\n",
    "- Creating a markdown table"
   ]
  },
  {
   "cell_type": "markdown",
   "id": "57cfbd58-f2ab-4d71-9ea9-259c8eb42c81",
   "metadata": {},
   "source": [
    "# H2: Author:\n",
    "Uzor Ifeanyichukwu"
   ]
  },
  {
   "cell_type": "code",
   "execution_count": null,
   "id": "3821232e-1c92-40c2-8b6a-0833aee12d6b",
   "metadata": {},
   "outputs": [],
   "source": []
  }
 ],
 "metadata": {
  "kernelspec": {
   "display_name": "Python 3 (ipykernel)",
   "language": "python",
   "name": "python3"
  },
  "language_info": {
   "codemirror_mode": {
    "name": "ipython",
    "version": 3
   },
   "file_extension": ".py",
   "mimetype": "text/x-python",
   "name": "python",
   "nbconvert_exporter": "python",
   "pygments_lexer": "ipython3",
   "version": "3.11.7"
  }
 },
 "nbformat": 4,
 "nbformat_minor": 5
}
